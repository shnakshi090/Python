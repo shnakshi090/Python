{
  "nbformat": 4,
  "nbformat_minor": 0,
  "metadata": {
    "colab": {
      "provenance": [],
      "authorship_tag": "ABX9TyPNvGjZSMYP4l+/SkvY3QfI",
      "include_colab_link": true
    },
    "kernelspec": {
      "name": "python3",
      "display_name": "Python 3"
    },
    "language_info": {
      "name": "python"
    }
  },
  "cells": [
    {
      "cell_type": "markdown",
      "metadata": {
        "id": "view-in-github",
        "colab_type": "text"
      },
      "source": [
        "<a href=\"https://colab.research.google.com/github/shnakshi090/Python/blob/main/numpy_2.ipynb\" target=\"_parent\"><img src=\"https://colab.research.google.com/assets/colab-badge.svg\" alt=\"Open In Colab\"/></a>"
      ]
    },
    {
      "cell_type": "code",
      "execution_count": 2,
      "metadata": {
        "colab": {
          "base_uri": "https://localhost:8080/"
        },
        "id": "HiZAJlkffVtS",
        "outputId": "5056e503-a8cf-494b-c5ff-b33babb423f8"
      },
      "outputs": [
        {
          "output_type": "stream",
          "name": "stdout",
          "text": [
            "The defined array is \n",
            "[[18 36]\n",
            " [31 30]\n",
            " [20 26]\n",
            " [16 40]\n",
            " [13 25]\n",
            " [42 22]\n",
            " [19 19]\n",
            " [21 44]]\n",
            " \n",
            " The shape of the array is (8, 2)\n"
          ]
        }
      ],
      "source": [
        "#Load the NumPy\n",
        "\n",
        "import numpy as np\n",
        "arravali = np.array(np.random.randint(10,45,(8,2)))\n",
        "print(f\"The defined array is \\n{arravali}\")\n",
        "print(f\" \\n The shape of the array is {arravali.shape}\")\n"
      ]
    },
    {
      "cell_type": "code",
      "source": [
        "#Storing the transpose in another matrix object\n",
        "\n",
        "nilgiri = np.transpose(arravali)\n",
        "print(f\" This transpose of the array is \\n{nilgiri}\")\n",
        "print(f\" \\n The shape of the array is {nilgiri.shape}\")\n"
      ],
      "metadata": {
        "id": "KDh8gPrAl505",
        "colab": {
          "base_uri": "https://localhost:8080/"
        },
        "outputId": "a50603aa-cc01-45f2-f0ed-09d5418e1267"
      },
      "execution_count": 3,
      "outputs": [
        {
          "output_type": "stream",
          "name": "stdout",
          "text": [
            " This transpose of the array is \n",
            "[[18 31 20 16 13 42 19 21]\n",
            " [36 30 26 40 25 22 19 44]]\n",
            " \n",
            " The shape of the array is (2, 8)\n"
          ]
        }
      ]
    },
    {
      "cell_type": "code",
      "source": [
        "#3D Array\n",
        "\n",
        "random_3d_array = np.array(np.random.randint(10,45,(3,2,4)))\n",
        "print(f\"The defined array is \\n{random_3d_array}\")\n",
        "print(f\" \\n The shape of the array is {random_3d_array.shape}\")"
      ],
      "metadata": {
        "id": "jJUWEoHjl5xn",
        "colab": {
          "base_uri": "https://localhost:8080/"
        },
        "outputId": "508e5214-509a-4012-ac68-27bf539b2b63"
      },
      "execution_count": 4,
      "outputs": [
        {
          "output_type": "stream",
          "name": "stdout",
          "text": [
            "The defined array is \n",
            "[[[15 10 28 28]\n",
            "  [17 28 35 23]]\n",
            "\n",
            " [[26 37 42 29]\n",
            "  [22 32 27 43]]\n",
            "\n",
            " [[42 40 11 39]\n",
            "  [33 26 25 41]]]\n",
            " \n",
            " The shape of the array is (3, 2, 4)\n"
          ]
        }
      ]
    },
    {
      "cell_type": "code",
      "source": [
        "#Storing the transpose of the created 3D Array\n",
        "\n",
        "transpose_3d_array = np.transpose(random_3d_array)\n",
        "print(f\" This transpose of the array is \\n{transpose_3d_array}\")\n",
        "print(f\" \\n The shape of the array is {transpose_3d_array.shape}\")"
      ],
      "metadata": {
        "id": "NAIvR9Q8l5vD",
        "colab": {
          "base_uri": "https://localhost:8080/"
        },
        "outputId": "87f8b4e2-bee6-4a9b-beb2-87706cd54552"
      },
      "execution_count": 5,
      "outputs": [
        {
          "output_type": "stream",
          "name": "stdout",
          "text": [
            " This transpose of the array is \n",
            "[[[15 26 42]\n",
            "  [17 22 33]]\n",
            "\n",
            " [[10 37 40]\n",
            "  [28 32 26]]\n",
            "\n",
            " [[28 42 11]\n",
            "  [35 27 25]]\n",
            "\n",
            " [[28 29 39]\n",
            "  [23 43 41]]]\n",
            " \n",
            " The shape of the array is (4, 2, 3)\n"
          ]
        }
      ]
    },
    {
      "cell_type": "code",
      "source": [
        "#Create a two dimensional array\n",
        "\n",
        "random_cohort = np.array(np.random.randint(10,45,(3,8)))\n",
        "print(f\"The defined array is \\n{random_cohort}\")\n",
        "print(f\" \\n The shape of the array is {random_cohort.shape}\")"
      ],
      "metadata": {
        "id": "zY8owB7zl5bD",
        "colab": {
          "base_uri": "https://localhost:8080/"
        },
        "outputId": "be3849b1-db17-44a4-f489-a2f216790c58"
      },
      "execution_count": 6,
      "outputs": [
        {
          "output_type": "stream",
          "name": "stdout",
          "text": [
            "The defined array is \n",
            "[[28 34 30 30 35 31 38 28]\n",
            " [39 30 34 14 44 40 10 34]\n",
            " [11 24 21 44 20 32 20 16]]\n",
            " \n",
            " The shape of the array is (3, 8)\n"
          ]
        }
      ]
    },
    {
      "cell_type": "code",
      "source": [
        "#Now we can reshape this to 1D,2D or 3D Array\n",
        "\n",
        "new_shape = (2,6,2)\n",
        "reshaped_random_cohort = np.reshape(random_cohort,new_shape)\n",
        "print(f\"This reshaped array is \\n{reshaped_random_cohort}\")\n",
        "print(f\" \\n The shape of the array is {reshaped_random_cohort.shape}\")"
      ],
      "metadata": {
        "id": "zGdfT-ULl5Xs",
        "colab": {
          "base_uri": "https://localhost:8080/"
        },
        "outputId": "8a974fa8-9b17-4912-ff44-e219195a598a"
      },
      "execution_count": 7,
      "outputs": [
        {
          "output_type": "stream",
          "name": "stdout",
          "text": [
            "This reshaped array is \n",
            "[[[28 34]\n",
            "  [30 30]\n",
            "  [35 31]\n",
            "  [38 28]\n",
            "  [39 30]\n",
            "  [34 14]]\n",
            "\n",
            " [[44 40]\n",
            "  [10 34]\n",
            "  [11 24]\n",
            "  [21 44]\n",
            "  [20 32]\n",
            "  [20 16]]]\n",
            " \n",
            " The shape of the array is (2, 6, 2)\n"
          ]
        }
      ]
    },
    {
      "cell_type": "code",
      "source": [
        "new_shape = (2,-1,6)\n",
        "reshaped_random_cohort = np.reshape(random_cohort,new_shape)\n",
        "print(f\"This reshaped array is \\n{reshaped_random_cohort}\")\n",
        "print(f\" \\n The shape of the array is {reshaped_random_cohort.shape}\")"
      ],
      "metadata": {
        "id": "sVn8fdNBl5UO",
        "colab": {
          "base_uri": "https://localhost:8080/"
        },
        "outputId": "f4f4c4c6-7b25-4552-f215-4d8c41038667"
      },
      "execution_count": 8,
      "outputs": [
        {
          "output_type": "stream",
          "name": "stdout",
          "text": [
            "This reshaped array is \n",
            "[[[28 34 30 30 35 31]\n",
            "  [38 28 39 30 34 14]]\n",
            "\n",
            " [[44 40 10 34 11 24]\n",
            "  [21 44 20 32 20 16]]]\n",
            " \n",
            " The shape of the array is (2, 2, 6)\n"
          ]
        }
      ]
    },
    {
      "cell_type": "code",
      "source": [
        "random_3D_cohort = np.array(np.random.randint(10,45,(3,6,2)))\n",
        "print(f\"The defined array is \\n{random_3D_cohort}\")\n",
        "print(f\" \\n The shape of the array is {random_3D_cohort.shape}\")"
      ],
      "metadata": {
        "id": "QC_UXvVwl5Qv",
        "colab": {
          "base_uri": "https://localhost:8080/"
        },
        "outputId": "db3022ef-348d-4cad-9a85-b0d4f5e3476a"
      },
      "execution_count": 9,
      "outputs": [
        {
          "output_type": "stream",
          "name": "stdout",
          "text": [
            "The defined array is \n",
            "[[[14 37]\n",
            "  [27 30]\n",
            "  [39 11]\n",
            "  [31 31]\n",
            "  [42 19]\n",
            "  [41 17]]\n",
            "\n",
            " [[21 35]\n",
            "  [28 14]\n",
            "  [21 31]\n",
            "  [33 43]\n",
            "  [33 36]\n",
            "  [42 41]]\n",
            "\n",
            " [[10 24]\n",
            "  [24 15]\n",
            "  [20 41]\n",
            "  [31 21]\n",
            "  [43 14]\n",
            "  [10 14]]]\n",
            " \n",
            " The shape of the array is (3, 6, 2)\n"
          ]
        }
      ]
    },
    {
      "cell_type": "code",
      "source": [
        "new_shape = (2,1,6)\n",
        "resize_random_3D_cohort = np.resize(random_3D_cohort,new_shape)\n",
        "print(f\"This resized array is \\n{resize_random_3D_cohort}\")\n",
        "print(f\" \\n The shape of the array is {resize_random_3D_cohort.shape}\")"
      ],
      "metadata": {
        "colab": {
          "base_uri": "https://localhost:8080/"
        },
        "id": "cA7kjcmJ_PP0",
        "outputId": "13f58735-a5a9-4c8a-daef-984f9a28a140"
      },
      "execution_count": 10,
      "outputs": [
        {
          "output_type": "stream",
          "name": "stdout",
          "text": [
            "This resized array is \n",
            "[[[14 37 27 30 39 11]]\n",
            "\n",
            " [[31 31 42 19 41 17]]]\n",
            " \n",
            " The shape of the array is (2, 1, 6)\n"
          ]
        }
      ]
    },
    {
      "cell_type": "code",
      "source": [
        "random_3D_cohort = np.array(np.random.randint(10,45,(2,4,6)))\n",
        "print(f\"The defined array is \\n{random_3D_cohort}\")\n",
        "print(f\" \\n The shape of the array is {random_3D_cohort.shape}\")"
      ],
      "metadata": {
        "colab": {
          "base_uri": "https://localhost:8080/"
        },
        "id": "LvIlTqIX_PMk",
        "outputId": "63b6ad8d-3ddb-4c33-8c3f-450985bbf891"
      },
      "execution_count": 11,
      "outputs": [
        {
          "output_type": "stream",
          "name": "stdout",
          "text": [
            "The defined array is \n",
            "[[[42 26 18 26 12 11]\n",
            "  [32 18 31 40 29 15]\n",
            "  [23 14 27 21 17 16]\n",
            "  [15 27 10 34 29 24]]\n",
            "\n",
            " [[42 43 35 36 38 35]\n",
            "  [15 26 40 41 23 37]\n",
            "  [27 22 16 22 32 25]\n",
            "  [39 33 36 19 19 16]]]\n",
            " \n",
            " The shape of the array is (2, 4, 6)\n"
          ]
        }
      ]
    },
    {
      "cell_type": "code",
      "source": [
        "new_shape = (2,3,6)\n",
        "resized_random_3D_cohort = np.resize(random_3D_cohort,new_shape)\n",
        "print(f\"This resized array is \\n{resize_random_3D_cohort}\")\n",
        "print(f\" \\n The shape of the array is {resize_random_3D_cohort.shape}\")"
      ],
      "metadata": {
        "colab": {
          "base_uri": "https://localhost:8080/"
        },
        "id": "bg4ZjMZo_PJ0",
        "outputId": "668d1da6-55e5-4c14-bf14-908ba6b57328"
      },
      "execution_count": 12,
      "outputs": [
        {
          "output_type": "stream",
          "name": "stdout",
          "text": [
            "This resized array is \n",
            "[[[14 37 27 30 39 11]]\n",
            "\n",
            " [[31 31 42 19 41 17]]]\n",
            " \n",
            " The shape of the array is (2, 1, 6)\n"
          ]
        }
      ]
    },
    {
      "cell_type": "code",
      "source": [
        "import numpy as np\n",
        "random_3D_cohort = np.array(np.random.randint(10,45,(2,4,6)))\n",
        "print(f\"The defined array is \\n{random_3D_cohort}\")\n",
        "print(f\" \\n The shape of the array is {random_3D_cohort.shape}\")"
      ],
      "metadata": {
        "colab": {
          "base_uri": "https://localhost:8080/"
        },
        "id": "g0NlF1Ft_PHS",
        "outputId": "7f560d77-190d-465d-d335-07dc9bf8c986"
      },
      "execution_count": 13,
      "outputs": [
        {
          "output_type": "stream",
          "name": "stdout",
          "text": [
            "The defined array is \n",
            "[[[21 44 18 22 33 37]\n",
            "  [32 40 39 40 44 16]\n",
            "  [17 24 44 22 40 39]\n",
            "  [17 26 24 38 43 41]]\n",
            "\n",
            " [[22 43 21 17 23 10]\n",
            "  [31 10 27 19 40 27]\n",
            "  [22 36 25 36 23 13]\n",
            "  [21 33 26 31 20 31]]]\n",
            " \n",
            " The shape of the array is (2, 4, 6)\n"
          ]
        }
      ]
    },
    {
      "cell_type": "code",
      "source": [
        "new_shape = (2,3,6)\n",
        "resized_random_3D_cohort = np.resize(random_3D_cohort,new_shape)\n",
        "print(f\"This resized array is \\n{resized_random_3D_cohort}\")\n",
        "print(f\" \\n The shape of the array is {resized_random_3D_cohort.shape}\")"
      ],
      "metadata": {
        "colab": {
          "base_uri": "https://localhost:8080/"
        },
        "id": "9OT30tT7_PFa",
        "outputId": "bf761a88-4e01-4a74-a917-868ca8601c61"
      },
      "execution_count": 14,
      "outputs": [
        {
          "output_type": "stream",
          "name": "stdout",
          "text": [
            "This resized array is \n",
            "[[[21 44 18 22 33 37]\n",
            "  [32 40 39 40 44 16]\n",
            "  [17 24 44 22 40 39]]\n",
            "\n",
            " [[17 26 24 38 43 41]\n",
            "  [22 43 21 17 23 10]\n",
            "  [31 10 27 19 40 27]]]\n",
            " \n",
            " The shape of the array is (2, 3, 6)\n"
          ]
        }
      ]
    },
    {
      "cell_type": "code",
      "source": [
        "import numpy as np\n",
        "a = np.random.randint(10,20,(2,3,4))   #Axis 0-2 ; Axis 1-3 ; Axis 2-4\n",
        "print(a)\n",
        "print(a.shape)"
      ],
      "metadata": {
        "colab": {
          "base_uri": "https://localhost:8080/"
        },
        "id": "j8nSoyjN_PC5",
        "outputId": "81e8617f-53ce-440a-b599-a0b47df8f64f"
      },
      "execution_count": 15,
      "outputs": [
        {
          "output_type": "stream",
          "name": "stdout",
          "text": [
            "[[[13 10 16 13]\n",
            "  [13 13 10 17]\n",
            "  [18 12 15 13]]\n",
            "\n",
            " [[14 19 14 10]\n",
            "  [19 15 11 18]\n",
            "  [12 14 17 19]]]\n",
            "(2, 3, 4)\n"
          ]
        }
      ]
    },
    {
      "cell_type": "code",
      "source": [
        "#Insert along axis = 0\n",
        "np.insert(a,1,100,axis=0)"
      ],
      "metadata": {
        "colab": {
          "base_uri": "https://localhost:8080/"
        },
        "id": "9T5AwBU4_O__",
        "outputId": "ca18d143-f9a0-4bf8-8356-2ae7e24ef825"
      },
      "execution_count": 16,
      "outputs": [
        {
          "output_type": "execute_result",
          "data": {
            "text/plain": [
              "array([[[ 13,  10,  16,  13],\n",
              "        [ 13,  13,  10,  17],\n",
              "        [ 18,  12,  15,  13]],\n",
              "\n",
              "       [[100, 100, 100, 100],\n",
              "        [100, 100, 100, 100],\n",
              "        [100, 100, 100, 100]],\n",
              "\n",
              "       [[ 14,  19,  14,  10],\n",
              "        [ 19,  15,  11,  18],\n",
              "        [ 12,  14,  17,  19]]])"
            ]
          },
          "metadata": {},
          "execution_count": 16
        }
      ]
    },
    {
      "cell_type": "code",
      "source": [
        "a = np.random.randint(2,6,(2,3,3))\n",
        "print(a)\n",
        "print(a.shape)"
      ],
      "metadata": {
        "colab": {
          "base_uri": "https://localhost:8080/"
        },
        "id": "qqsMCJng_uvC",
        "outputId": "df085dde-d36c-4a18-807d-450077f6ccfe"
      },
      "execution_count": 17,
      "outputs": [
        {
          "output_type": "stream",
          "name": "stdout",
          "text": [
            "[[[2 5 5]\n",
            "  [2 5 3]\n",
            "  [2 5 3]]\n",
            "\n",
            " [[5 4 4]\n",
            "  [4 3 3]\n",
            "  [5 4 2]]]\n",
            "(2, 3, 3)\n"
          ]
        }
      ]
    },
    {
      "cell_type": "code",
      "source": [
        "np.append(a,50)"
      ],
      "metadata": {
        "colab": {
          "base_uri": "https://localhost:8080/"
        },
        "id": "GQfp3OUQ_ur1",
        "outputId": "f0a4cc23-2729-455c-b61c-b9aa2d700913"
      },
      "execution_count": 18,
      "outputs": [
        {
          "output_type": "execute_result",
          "data": {
            "text/plain": [
              "array([ 2,  5,  5,  2,  5,  3,  2,  5,  3,  5,  4,  4,  4,  3,  3,  5,  4,\n",
              "        2, 50])"
            ]
          },
          "metadata": {},
          "execution_count": 18
        }
      ]
    },
    {
      "cell_type": "code",
      "source": [
        "b = np.random.randint(2,6,(2,1,3))\n",
        "print(b)"
      ],
      "metadata": {
        "colab": {
          "base_uri": "https://localhost:8080/"
        },
        "id": "AZacLzUw_uo6",
        "outputId": "a3ac2f6f-4e76-4241-9165-20b4d288059a"
      },
      "execution_count": 19,
      "outputs": [
        {
          "output_type": "stream",
          "name": "stdout",
          "text": [
            "[[[5 2 4]]\n",
            "\n",
            " [[3 3 2]]]\n"
          ]
        }
      ]
    },
    {
      "cell_type": "code",
      "source": [
        "print(a)\n",
        "print(a.shape)\n",
        ""
      ],
      "metadata": {
        "colab": {
          "base_uri": "https://localhost:8080/"
        },
        "id": "AX2Pd48C_umb",
        "outputId": "7cbcea49-cf0a-4df9-96cb-7f9d6317a9bb"
      },
      "execution_count": 20,
      "outputs": [
        {
          "output_type": "stream",
          "name": "stdout",
          "text": [
            "[[[2 5 5]\n",
            "  [2 5 3]\n",
            "  [2 5 3]]\n",
            "\n",
            " [[5 4 4]\n",
            "  [4 3 3]\n",
            "  [5 4 2]]]\n",
            "(2, 3, 3)\n"
          ]
        }
      ]
    },
    {
      "cell_type": "code",
      "source": [
        "np.append(a,b,axis=1)"
      ],
      "metadata": {
        "colab": {
          "base_uri": "https://localhost:8080/"
        },
        "id": "p8xXU11O_ujq",
        "outputId": "e39cf914-9f3a-4579-c5b0-d6f034de84c1"
      },
      "execution_count": 21,
      "outputs": [
        {
          "output_type": "execute_result",
          "data": {
            "text/plain": [
              "array([[[2, 5, 5],\n",
              "        [2, 5, 3],\n",
              "        [2, 5, 3],\n",
              "        [5, 2, 4]],\n",
              "\n",
              "       [[5, 4, 4],\n",
              "        [4, 3, 3],\n",
              "        [5, 4, 2],\n",
              "        [3, 3, 2]]])"
            ]
          },
          "metadata": {},
          "execution_count": 21
        }
      ]
    },
    {
      "cell_type": "code",
      "source": [
        "import numpy as np\n",
        "a = np.random.randint(2,6,(2,3,3))\n",
        "print(a)\n",
        "print(a.shape)\n",
        ""
      ],
      "metadata": {
        "colab": {
          "base_uri": "https://localhost:8080/"
        },
        "id": "VdscVVXX_ug_",
        "outputId": "9a3e6cd8-ee97-4f78-bc65-eebdaf173df2"
      },
      "execution_count": 22,
      "outputs": [
        {
          "output_type": "stream",
          "name": "stdout",
          "text": [
            "[[[4 5 4]\n",
            "  [5 2 2]\n",
            "  [4 3 5]]\n",
            "\n",
            " [[3 4 4]\n",
            "  [2 2 3]\n",
            "  [3 3 2]]]\n",
            "(2, 3, 3)\n"
          ]
        }
      ]
    },
    {
      "cell_type": "code",
      "source": [
        "np.delete(a,(0),axis = 0)"
      ],
      "metadata": {
        "colab": {
          "base_uri": "https://localhost:8080/"
        },
        "id": "AZOvc_-1_uec",
        "outputId": "c0724259-8b20-4ea6-d191-a2163e8b1148"
      },
      "execution_count": 23,
      "outputs": [
        {
          "output_type": "execute_result",
          "data": {
            "text/plain": [
              "array([[[3, 4, 4],\n",
              "        [2, 2, 3],\n",
              "        [3, 3, 2]]])"
            ]
          },
          "metadata": {},
          "execution_count": 23
        }
      ]
    },
    {
      "cell_type": "code",
      "source": [
        "np.delete(a,(0,2),axis = 1)"
      ],
      "metadata": {
        "colab": {
          "base_uri": "https://localhost:8080/"
        },
        "id": "25egjYV__ubU",
        "outputId": "3f7efb22-88bd-4aef-ddb3-c9cb3704aea9"
      },
      "execution_count": 24,
      "outputs": [
        {
          "output_type": "execute_result",
          "data": {
            "text/plain": [
              "array([[[5, 2, 2]],\n",
              "\n",
              "       [[2, 2, 3]]])"
            ]
          },
          "metadata": {},
          "execution_count": 24
        }
      ]
    },
    {
      "cell_type": "code",
      "source": [
        "a"
      ],
      "metadata": {
        "colab": {
          "base_uri": "https://localhost:8080/"
        },
        "id": "gKj5UBMoAQIF",
        "outputId": "05e7f99d-33d8-4d76-c327-22b6af9333a4"
      },
      "execution_count": 25,
      "outputs": [
        {
          "output_type": "execute_result",
          "data": {
            "text/plain": [
              "array([[[4, 5, 4],\n",
              "        [5, 2, 2],\n",
              "        [4, 3, 5]],\n",
              "\n",
              "       [[3, 4, 4],\n",
              "        [2, 2, 3],\n",
              "        [3, 3, 2]]])"
            ]
          },
          "metadata": {},
          "execution_count": 25
        }
      ]
    },
    {
      "cell_type": "code",
      "source": [
        "np.delete(a,(0,1),axis = 2)"
      ],
      "metadata": {
        "colab": {
          "base_uri": "https://localhost:8080/"
        },
        "id": "YXnKf3fcAQFt",
        "outputId": "13a25563-c8b3-4ebe-cea0-e48c7f2a1a33"
      },
      "execution_count": 26,
      "outputs": [
        {
          "output_type": "execute_result",
          "data": {
            "text/plain": [
              "array([[[4],\n",
              "        [2],\n",
              "        [5]],\n",
              "\n",
              "       [[4],\n",
              "        [3],\n",
              "        [2]]])"
            ]
          },
          "metadata": {},
          "execution_count": 26
        }
      ]
    },
    {
      "cell_type": "code",
      "source": [
        "a = np.random.randint(2,20,(2,3,3))\n",
        "print(a)\n",
        "print(a.shape)\n",
        ""
      ],
      "metadata": {
        "colab": {
          "base_uri": "https://localhost:8080/"
        },
        "id": "RXNf-lrZAQDF",
        "outputId": "e413a085-8489-4c64-ebc0-39196e4957ec"
      },
      "execution_count": 27,
      "outputs": [
        {
          "output_type": "stream",
          "name": "stdout",
          "text": [
            "[[[15 19 17]\n",
            "  [14  6 13]\n",
            "  [15  4 14]]\n",
            "\n",
            " [[ 8  8  8]\n",
            "  [11 16 16]\n",
            "  [13  7  6]]]\n",
            "(2, 3, 3)\n"
          ]
        }
      ]
    },
    {
      "cell_type": "code",
      "source": [
        "np.unique(a)"
      ],
      "metadata": {
        "colab": {
          "base_uri": "https://localhost:8080/"
        },
        "id": "Hox3cG4mAP_N",
        "outputId": "d93426ee-a6d3-4a98-8b31-ecd6ea0601d5"
      },
      "execution_count": 28,
      "outputs": [
        {
          "output_type": "execute_result",
          "data": {
            "text/plain": [
              "array([ 4,  6,  7,  8, 11, 13, 14, 15, 16, 17, 19])"
            ]
          },
          "metadata": {},
          "execution_count": 28
        }
      ]
    },
    {
      "cell_type": "code",
      "source": [
        "np.unique(a,return_counts=True)"
      ],
      "metadata": {
        "colab": {
          "base_uri": "https://localhost:8080/"
        },
        "id": "9P84pxGuAP8c",
        "outputId": "d17a65a6-0505-4c85-8054-d298693249a2"
      },
      "execution_count": 29,
      "outputs": [
        {
          "output_type": "execute_result",
          "data": {
            "text/plain": [
              "(array([ 4,  6,  7,  8, 11, 13, 14, 15, 16, 17, 19]),\n",
              " array([1, 2, 1, 3, 1, 2, 2, 2, 2, 1, 1]))"
            ]
          },
          "metadata": {},
          "execution_count": 29
        }
      ]
    },
    {
      "cell_type": "code",
      "source": [
        "np.unique(a,return_counts=True,return_index=True)"
      ],
      "metadata": {
        "colab": {
          "base_uri": "https://localhost:8080/"
        },
        "id": "zGcjymmCAP52",
        "outputId": "ad87e6c1-412b-4f66-af87-70d9fade2fab"
      },
      "execution_count": 30,
      "outputs": [
        {
          "output_type": "execute_result",
          "data": {
            "text/plain": [
              "(array([ 4,  6,  7,  8, 11, 13, 14, 15, 16, 17, 19]),\n",
              " array([ 7,  4, 16,  9, 12,  5,  3,  0, 13,  2,  1]),\n",
              " array([1, 2, 1, 3, 1, 2, 2, 2, 2, 1, 1]))"
            ]
          },
          "metadata": {},
          "execution_count": 30
        }
      ]
    },
    {
      "cell_type": "code",
      "source": [
        "a = [1,2,3]\n",
        "b= a\n",
        "b[0] = 10\n",
        "print(b)\n",
        "print(a)"
      ],
      "metadata": {
        "colab": {
          "base_uri": "https://localhost:8080/"
        },
        "id": "Q-xn5qk7AP2-",
        "outputId": "ab982fd7-9c23-4631-8f24-5df7a2fce9be"
      },
      "execution_count": 31,
      "outputs": [
        {
          "output_type": "stream",
          "name": "stdout",
          "text": [
            "[10, 2, 3]\n",
            "[10, 2, 3]\n"
          ]
        }
      ]
    },
    {
      "cell_type": "code",
      "source": [
        "a = np.array([2,34,12])\n",
        "b = a\n",
        "b[0] = -999\n",
        "print(b)\n",
        "print(a)\n",
        ""
      ],
      "metadata": {
        "colab": {
          "base_uri": "https://localhost:8080/"
        },
        "id": "H-LDI1H8Anrr",
        "outputId": "aa5118c4-c2b2-4d0c-89f5-ffb2007fba3a"
      },
      "execution_count": 32,
      "outputs": [
        {
          "output_type": "stream",
          "name": "stdout",
          "text": [
            "[-999   34   12]\n",
            "[-999   34   12]\n"
          ]
        }
      ]
    },
    {
      "cell_type": "code",
      "source": [
        "a = np.array([2,34,12])\n",
        "b = a.copy()\n",
        "b[0] = -999\n",
        "print(b)\n",
        "print(a)"
      ],
      "metadata": {
        "colab": {
          "base_uri": "https://localhost:8080/"
        },
        "id": "RJuvJgwuAnl7",
        "outputId": "4657b74b-09f5-4b2d-f7e1-a3016220d74a"
      },
      "execution_count": 33,
      "outputs": [
        {
          "output_type": "stream",
          "name": "stdout",
          "text": [
            "[-999   34   12]\n",
            "[ 2 34 12]\n"
          ]
        }
      ]
    },
    {
      "cell_type": "code",
      "source": [
        "np.arange(3) + 5"
      ],
      "metadata": {
        "colab": {
          "base_uri": "https://localhost:8080/"
        },
        "id": "DLqimW7dAnjO",
        "outputId": "50e2aa84-dbd3-49ca-dc94-d8dd76806c9d"
      },
      "execution_count": 34,
      "outputs": [
        {
          "output_type": "execute_result",
          "data": {
            "text/plain": [
              "array([5, 6, 7])"
            ]
          },
          "metadata": {},
          "execution_count": 34
        }
      ]
    },
    {
      "cell_type": "code",
      "source": [
        "np.ones((3,3)) + np.arange(3)"
      ],
      "metadata": {
        "colab": {
          "base_uri": "https://localhost:8080/"
        },
        "id": "bspGGctNAngl",
        "outputId": "d7666cd7-99ef-4d5c-dee4-1a25910687e6"
      },
      "execution_count": 35,
      "outputs": [
        {
          "output_type": "execute_result",
          "data": {
            "text/plain": [
              "array([[1., 2., 3.],\n",
              "       [1., 2., 3.],\n",
              "       [1., 2., 3.]])"
            ]
          },
          "metadata": {},
          "execution_count": 35
        }
      ]
    },
    {
      "cell_type": "code",
      "source": [
        "np.arange(3).reshape((3,1)) + np.arange(3)"
      ],
      "metadata": {
        "colab": {
          "base_uri": "https://localhost:8080/"
        },
        "id": "YX680iCmAndj",
        "outputId": "8ac00b8c-5830-4372-db78-f24e07306f06"
      },
      "execution_count": 36,
      "outputs": [
        {
          "output_type": "execute_result",
          "data": {
            "text/plain": [
              "array([[0, 1, 2],\n",
              "       [1, 2, 3],\n",
              "       [2, 3, 4]])"
            ]
          },
          "metadata": {},
          "execution_count": 36
        }
      ]
    },
    {
      "cell_type": "code",
      "source": [
        "np.arange(2)"
      ],
      "metadata": {
        "colab": {
          "base_uri": "https://localhost:8080/"
        },
        "id": "STYgVDApA66U",
        "outputId": "1183c37e-fb5e-455c-b563-1024d366b55b"
      },
      "execution_count": 37,
      "outputs": [
        {
          "output_type": "execute_result",
          "data": {
            "text/plain": [
              "array([0, 1])"
            ]
          },
          "metadata": {},
          "execution_count": 37
        }
      ]
    },
    {
      "cell_type": "code",
      "source": [
        "a = np.random.randint(2,6,(2,4))\n",
        "print(a)\n",
        "b = np.random.randint(1,10,(2,2))\n",
        "print(b)"
      ],
      "metadata": {
        "colab": {
          "base_uri": "https://localhost:8080/"
        },
        "id": "zGw9ir9oA63A",
        "outputId": "42be4d6f-925f-4bf1-dbb2-329d4442fd9b"
      },
      "execution_count": 38,
      "outputs": [
        {
          "output_type": "stream",
          "name": "stdout",
          "text": [
            "[[4 2 5 5]\n",
            " [3 2 4 5]]\n",
            "[[5 8]\n",
            " [7 9]]\n"
          ]
        }
      ]
    },
    {
      "cell_type": "code",
      "source": [
        "a = np.random.randint(2,6,(2,4))\n",
        "print(a)\n",
        "b = np.random.randint(0,5,(2,4))\n",
        "print(b)\n"
      ],
      "metadata": {
        "colab": {
          "base_uri": "https://localhost:8080/"
        },
        "id": "rQtaQI56A6z3",
        "outputId": "395bbc46-0f90-4f6f-bb43-0f751404e0ff"
      },
      "execution_count": 39,
      "outputs": [
        {
          "output_type": "stream",
          "name": "stdout",
          "text": [
            "[[2 3 5 3]\n",
            " [5 5 2 2]]\n",
            "[[4 3 0 0]\n",
            " [1 3 3 4]]\n"
          ]
        }
      ]
    },
    {
      "cell_type": "code",
      "source": [
        "np.multiply(a,b)"
      ],
      "metadata": {
        "colab": {
          "base_uri": "https://localhost:8080/"
        },
        "id": "NHiKqPocA6wu",
        "outputId": "5c0cfacc-6768-4979-d34c-a55040f25df1"
      },
      "execution_count": 40,
      "outputs": [
        {
          "output_type": "execute_result",
          "data": {
            "text/plain": [
              "array([[ 8,  9,  0,  0],\n",
              "       [ 5, 15,  6,  8]])"
            ]
          },
          "metadata": {},
          "execution_count": 40
        }
      ]
    },
    {
      "cell_type": "code",
      "source": [
        "np.divide(a,b)"
      ],
      "metadata": {
        "colab": {
          "base_uri": "https://localhost:8080/"
        },
        "id": "xjEbiW63A6uP",
        "outputId": "29027ab6-5ac7-4c9a-d047-a6a1eaf9cba0"
      },
      "execution_count": 41,
      "outputs": [
        {
          "output_type": "stream",
          "name": "stderr",
          "text": [
            "<ipython-input-41-c364992e28ce>:1: RuntimeWarning: divide by zero encountered in divide\n",
            "  np.divide(a,b)\n"
          ]
        },
        {
          "output_type": "execute_result",
          "data": {
            "text/plain": [
              "array([[0.5       , 1.        ,        inf,        inf],\n",
              "       [5.        , 1.66666667, 0.66666667, 0.5       ]])"
            ]
          },
          "metadata": {},
          "execution_count": 41
        }
      ]
    },
    {
      "cell_type": "code",
      "source": [
        "a=np.random.randint(5,9,(2,4))\n",
        "print(a)"
      ],
      "metadata": {
        "colab": {
          "base_uri": "https://localhost:8080/"
        },
        "id": "avmGKD9iA6ry",
        "outputId": "f39e03bb-cb64-4dfd-e0ed-b52e7e48aa12"
      },
      "execution_count": 42,
      "outputs": [
        {
          "output_type": "stream",
          "name": "stdout",
          "text": [
            "[[8 5 5 6]\n",
            " [5 8 7 5]]\n"
          ]
        }
      ]
    },
    {
      "cell_type": "code",
      "source": [
        "print(np.sum(a))\n",
        "print(np.sum(a,axis = 0))\n",
        "print(np.sum(a,axis = 1))\n",
        "\n"
      ],
      "metadata": {
        "colab": {
          "base_uri": "https://localhost:8080/"
        },
        "id": "37Lqy5Q4A6na",
        "outputId": "db5329e1-aae3-425c-f1f1-9b94cf75642f"
      },
      "execution_count": 43,
      "outputs": [
        {
          "output_type": "stream",
          "name": "stdout",
          "text": [
            "49\n",
            "[13 13 12 11]\n",
            "[24 25]\n"
          ]
        }
      ]
    },
    {
      "cell_type": "code",
      "source": [
        "print(np.min(a))\n",
        "print(np.min(a,axis=1)) #Across Column\n",
        "a =np.random.randint(0,20,(3,3))\n",
        "print(a)"
      ],
      "metadata": {
        "colab": {
          "base_uri": "https://localhost:8080/"
        },
        "id": "A47V6Xu2A6kb",
        "outputId": "56add101-7bd3-4a17-cf27-ad7964c908a4"
      },
      "execution_count": 44,
      "outputs": [
        {
          "output_type": "stream",
          "name": "stdout",
          "text": [
            "5\n",
            "[5 5]\n",
            "[[ 7 11  7]\n",
            " [ 4 17  8]\n",
            " [ 8  3 15]]\n"
          ]
        }
      ]
    },
    {
      "cell_type": "code",
      "source": [
        "print(np.sort(a,axis=0)) # Ascending"
      ],
      "metadata": {
        "colab": {
          "base_uri": "https://localhost:8080/"
        },
        "id": "CGHBiSGTBc_T",
        "outputId": "df0c0a8b-6a45-4aff-8db3-c25ef46fc1e5"
      },
      "execution_count": 45,
      "outputs": [
        {
          "output_type": "stream",
          "name": "stdout",
          "text": [
            "[[ 4  3  7]\n",
            " [ 7 11  8]\n",
            " [ 8 17 15]]\n"
          ]
        }
      ]
    },
    {
      "cell_type": "code",
      "source": [
        "print(np.sort(a,axis=1))"
      ],
      "metadata": {
        "colab": {
          "base_uri": "https://localhost:8080/"
        },
        "id": "fgDBw82iBc8W",
        "outputId": "a5d8d260-42e2-4418-f61d-f0df6766ba28"
      },
      "execution_count": 46,
      "outputs": [
        {
          "output_type": "stream",
          "name": "stdout",
          "text": [
            "[[ 7  7 11]\n",
            " [ 4  8 17]\n",
            " [ 3  8 15]]\n"
          ]
        }
      ]
    },
    {
      "cell_type": "code",
      "source": [
        "print(-np.sort(-a,axis=1)) #Descending"
      ],
      "metadata": {
        "colab": {
          "base_uri": "https://localhost:8080/"
        },
        "id": "GkpIlmaoBc6G",
        "outputId": "a2a70661-0dd8-467f-cdb8-8708e3454c32"
      },
      "execution_count": 47,
      "outputs": [
        {
          "output_type": "stream",
          "name": "stdout",
          "text": [
            "[[11  7  7]\n",
            " [17  8  4]\n",
            " [15  8  3]]\n"
          ]
        }
      ]
    },
    {
      "cell_type": "code",
      "source": [
        "sum(np.arange(3)*np.arange(3).transpose())"
      ],
      "metadata": {
        "colab": {
          "base_uri": "https://localhost:8080/"
        },
        "id": "6EYye-kXBc3c",
        "outputId": "a7c4a45b-1c2c-4653-958a-ea2b463f420a"
      },
      "execution_count": 48,
      "outputs": [
        {
          "output_type": "execute_result",
          "data": {
            "text/plain": [
              "5"
            ]
          },
          "metadata": {},
          "execution_count": 48
        }
      ]
    }
  ]
}