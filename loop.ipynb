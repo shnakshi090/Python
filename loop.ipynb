{
  "nbformat": 4,
  "nbformat_minor": 0,
  "metadata": {
    "colab": {
      "provenance": [],
      "authorship_tag": "ABX9TyPcVRdqOayhKTbxKfvDbdnK",
      "include_colab_link": true
    },
    "kernelspec": {
      "name": "python3",
      "display_name": "Python 3"
    },
    "language_info": {
      "name": "python"
    }
  },
  "cells": [
    {
      "cell_type": "markdown",
      "metadata": {
        "id": "view-in-github",
        "colab_type": "text"
      },
      "source": [
        "<a href=\"https://colab.research.google.com/github/shnakshi090/Python/blob/main/loop.ipynb\" target=\"_parent\"><img src=\"https://colab.research.google.com/assets/colab-badge.svg\" alt=\"Open In Colab\"/></a>"
      ]
    },
    {
      "cell_type": "code",
      "execution_count": 1,
      "metadata": {
        "id": "p8jg4lROsvJR"
      },
      "outputs": [],
      "source": [
        "#for loop\n",
        "\n",
        "#Consider a list of strings\n",
        "\n",
        "got_houses = ['Stark','Arryn','Baratheon','Tully','Greyjoy','Lannister','Tyrell','Martell','Targaryen']\n",
        ""
      ]
    },
    {
      "cell_type": "code",
      "source": [
        "#A simple for loop to print the houses of GOT universe\n",
        "\n",
        "for house in got_houses:\n",
        "  print(f\"House{house}\")"
      ],
      "metadata": {
        "colab": {
          "base_uri": "https://localhost:8080/"
        },
        "id": "J9uWPXWJw8OG",
        "outputId": "fe9b467e-ec35-4e31-bcc1-03f2960f623c"
      },
      "execution_count": 2,
      "outputs": [
        {
          "output_type": "stream",
          "name": "stdout",
          "text": [
            "HouseStark\n",
            "HouseArryn\n",
            "HouseBaratheon\n",
            "HouseTully\n",
            "HouseGreyjoy\n",
            "HouseLannister\n",
            "HouseTyrell\n",
            "HouseMartell\n",
            "HouseTargaryen\n"
          ]
        }
      ]
    },
    {
      "cell_type": "code",
      "source": [
        "got_houses"
      ],
      "metadata": {
        "colab": {
          "base_uri": "https://localhost:8080/"
        },
        "id": "bNx3VKIew8Ml",
        "outputId": "4081b7f3-886e-46de-ff04-ce0a1e0d5059"
      },
      "execution_count": 3,
      "outputs": [
        {
          "output_type": "execute_result",
          "data": {
            "text/plain": [
              "['Stark',\n",
              " 'Arryn',\n",
              " 'Baratheon',\n",
              " 'Tully',\n",
              " 'Greyjoy',\n",
              " 'Lannister',\n",
              " 'Tyrell',\n",
              " 'Martell',\n",
              " 'Targaryen']"
            ]
          },
          "metadata": {},
          "execution_count": 3
        }
      ]
    },
    {
      "cell_type": "code",
      "source": [
        "x = 1,2\n",
        "x"
      ],
      "metadata": {
        "colab": {
          "base_uri": "https://localhost:8080/"
        },
        "id": "QdqrFb2Rw8KK",
        "outputId": "bb202376-5e9a-4cd2-943b-ade55cc5a7d7"
      },
      "execution_count": 4,
      "outputs": [
        {
          "output_type": "execute_result",
          "data": {
            "text/plain": [
              "(1, 2)"
            ]
          },
          "metadata": {},
          "execution_count": 4
        }
      ]
    },
    {
      "cell_type": "code",
      "source": [
        "list(enumerate(got_houses))\n"
      ],
      "metadata": {
        "colab": {
          "base_uri": "https://localhost:8080/"
        },
        "id": "ukHCwciCw8Hh",
        "outputId": "203f8e9a-0d54-456c-840e-390e414c30f7"
      },
      "execution_count": 5,
      "outputs": [
        {
          "output_type": "execute_result",
          "data": {
            "text/plain": [
              "[(0, 'Stark'),\n",
              " (1, 'Arryn'),\n",
              " (2, 'Baratheon'),\n",
              " (3, 'Tully'),\n",
              " (4, 'Greyjoy'),\n",
              " (5, 'Lannister'),\n",
              " (6, 'Tyrell'),\n",
              " (7, 'Martell'),\n",
              " (8, 'Targaryen')]"
            ]
          },
          "metadata": {},
          "execution_count": 5
        }
      ]
    },
    {
      "cell_type": "code",
      "source": [
        "list(range(10))"
      ],
      "metadata": {
        "colab": {
          "base_uri": "https://localhost:8080/"
        },
        "id": "UKTMzsTtw8FC",
        "outputId": "4a6a9023-0ca3-43b6-db8e-d076e37d544a"
      },
      "execution_count": 6,
      "outputs": [
        {
          "output_type": "execute_result",
          "data": {
            "text/plain": [
              "[0, 1, 2, 3, 4, 5, 6, 7, 8, 9]"
            ]
          },
          "metadata": {},
          "execution_count": 6
        }
      ]
    },
    {
      "cell_type": "code",
      "source": [
        "for i in range(2,21,2):\n",
        "      print(i)"
      ],
      "metadata": {
        "colab": {
          "base_uri": "https://localhost:8080/"
        },
        "id": "h9ZQCpwLw8CS",
        "outputId": "d7be942b-9e97-4e78-c2f8-4f3b815ecd34"
      },
      "execution_count": 7,
      "outputs": [
        {
          "output_type": "stream",
          "name": "stdout",
          "text": [
            "2\n",
            "4\n",
            "6\n",
            "8\n",
            "10\n",
            "12\n",
            "14\n",
            "16\n",
            "18\n",
            "20\n"
          ]
        }
      ]
    },
    {
      "cell_type": "code",
      "source": [
        "heisenberg_quote = \"It ceases to exist without me. No, you clearly don't know who you're talking to, so let me clue you in. I am not in danger\"\n",
        "words_by_walter = heisenberg_quote.split()\n",
        "print(words_by_walter)\n",
        ""
      ],
      "metadata": {
        "colab": {
          "base_uri": "https://localhost:8080/"
        },
        "id": "spa1gS-Nw8AO",
        "outputId": "d4300ca5-5a84-4ff7-b450-55814231f698"
      },
      "execution_count": 8,
      "outputs": [
        {
          "output_type": "stream",
          "name": "stdout",
          "text": [
            "['It', 'ceases', 'to', 'exist', 'without', 'me.', 'No,', 'you', 'clearly', \"don't\", 'know', 'who', \"you're\", 'talking', 'to,', 'so', 'let', 'me', 'clue', 'you', 'in.', 'I', 'am', 'not', 'in', 'danger']\n"
          ]
        }
      ]
    },
    {
      "cell_type": "code",
      "source": [
        "for index,char in enumerate(heisenberg_quote):\n",
        "    print(f\"The index is {index} and the character is {char}\")"
      ],
      "metadata": {
        "colab": {
          "base_uri": "https://localhost:8080/"
        },
        "id": "G81zfkDKw79W",
        "outputId": "4a134b0d-3e49-45f0-e75e-7e1e419c2079"
      },
      "execution_count": 9,
      "outputs": [
        {
          "output_type": "stream",
          "name": "stdout",
          "text": [
            "The index is 0 and the character is I\n",
            "The index is 1 and the character is t\n",
            "The index is 2 and the character is  \n",
            "The index is 3 and the character is c\n",
            "The index is 4 and the character is e\n",
            "The index is 5 and the character is a\n",
            "The index is 6 and the character is s\n",
            "The index is 7 and the character is e\n",
            "The index is 8 and the character is s\n",
            "The index is 9 and the character is  \n",
            "The index is 10 and the character is t\n",
            "The index is 11 and the character is o\n",
            "The index is 12 and the character is  \n",
            "The index is 13 and the character is e\n",
            "The index is 14 and the character is x\n",
            "The index is 15 and the character is i\n",
            "The index is 16 and the character is s\n",
            "The index is 17 and the character is t\n",
            "The index is 18 and the character is  \n",
            "The index is 19 and the character is w\n",
            "The index is 20 and the character is i\n",
            "The index is 21 and the character is t\n",
            "The index is 22 and the character is h\n",
            "The index is 23 and the character is o\n",
            "The index is 24 and the character is u\n",
            "The index is 25 and the character is t\n",
            "The index is 26 and the character is  \n",
            "The index is 27 and the character is m\n",
            "The index is 28 and the character is e\n",
            "The index is 29 and the character is .\n",
            "The index is 30 and the character is  \n",
            "The index is 31 and the character is N\n",
            "The index is 32 and the character is o\n",
            "The index is 33 and the character is ,\n",
            "The index is 34 and the character is  \n",
            "The index is 35 and the character is y\n",
            "The index is 36 and the character is o\n",
            "The index is 37 and the character is u\n",
            "The index is 38 and the character is  \n",
            "The index is 39 and the character is c\n",
            "The index is 40 and the character is l\n",
            "The index is 41 and the character is e\n",
            "The index is 42 and the character is a\n",
            "The index is 43 and the character is r\n",
            "The index is 44 and the character is l\n",
            "The index is 45 and the character is y\n",
            "The index is 46 and the character is  \n",
            "The index is 47 and the character is d\n",
            "The index is 48 and the character is o\n",
            "The index is 49 and the character is n\n",
            "The index is 50 and the character is '\n",
            "The index is 51 and the character is t\n",
            "The index is 52 and the character is  \n",
            "The index is 53 and the character is k\n",
            "The index is 54 and the character is n\n",
            "The index is 55 and the character is o\n",
            "The index is 56 and the character is w\n",
            "The index is 57 and the character is  \n",
            "The index is 58 and the character is w\n",
            "The index is 59 and the character is h\n",
            "The index is 60 and the character is o\n",
            "The index is 61 and the character is  \n",
            "The index is 62 and the character is y\n",
            "The index is 63 and the character is o\n",
            "The index is 64 and the character is u\n",
            "The index is 65 and the character is '\n",
            "The index is 66 and the character is r\n",
            "The index is 67 and the character is e\n",
            "The index is 68 and the character is  \n",
            "The index is 69 and the character is t\n",
            "The index is 70 and the character is a\n",
            "The index is 71 and the character is l\n",
            "The index is 72 and the character is k\n",
            "The index is 73 and the character is i\n",
            "The index is 74 and the character is n\n",
            "The index is 75 and the character is g\n",
            "The index is 76 and the character is  \n",
            "The index is 77 and the character is t\n",
            "The index is 78 and the character is o\n",
            "The index is 79 and the character is ,\n",
            "The index is 80 and the character is  \n",
            "The index is 81 and the character is s\n",
            "The index is 82 and the character is o\n",
            "The index is 83 and the character is  \n",
            "The index is 84 and the character is l\n",
            "The index is 85 and the character is e\n",
            "The index is 86 and the character is t\n",
            "The index is 87 and the character is  \n",
            "The index is 88 and the character is m\n",
            "The index is 89 and the character is e\n",
            "The index is 90 and the character is  \n",
            "The index is 91 and the character is c\n",
            "The index is 92 and the character is l\n",
            "The index is 93 and the character is u\n",
            "The index is 94 and the character is e\n",
            "The index is 95 and the character is  \n",
            "The index is 96 and the character is y\n",
            "The index is 97 and the character is o\n",
            "The index is 98 and the character is u\n",
            "The index is 99 and the character is  \n",
            "The index is 100 and the character is i\n",
            "The index is 101 and the character is n\n",
            "The index is 102 and the character is .\n",
            "The index is 103 and the character is  \n",
            "The index is 104 and the character is I\n",
            "The index is 105 and the character is  \n",
            "The index is 106 and the character is a\n",
            "The index is 107 and the character is m\n",
            "The index is 108 and the character is  \n",
            "The index is 109 and the character is n\n",
            "The index is 110 and the character is o\n",
            "The index is 111 and the character is t\n",
            "The index is 112 and the character is  \n",
            "The index is 113 and the character is i\n",
            "The index is 114 and the character is n\n",
            "The index is 115 and the character is  \n",
            "The index is 116 and the character is d\n",
            "The index is 117 and the character is a\n",
            "The index is 118 and the character is n\n",
            "The index is 119 and the character is g\n",
            "The index is 120 and the character is e\n",
            "The index is 121 and the character is r\n"
          ]
        }
      ]
    },
    {
      "cell_type": "code",
      "source": [
        "for index,char in enumerate(heisenberg_quote):\n",
        "    print(f\"The index is {index} and the character is {char}\")\n",
        ""
      ],
      "metadata": {
        "colab": {
          "base_uri": "https://localhost:8080/"
        },
        "id": "0NeJInFIyCKY",
        "outputId": "d1909bb2-27ce-4441-a2ff-862797233e99"
      },
      "execution_count": 10,
      "outputs": [
        {
          "output_type": "stream",
          "name": "stdout",
          "text": [
            "The index is 0 and the character is I\n",
            "The index is 1 and the character is t\n",
            "The index is 2 and the character is  \n",
            "The index is 3 and the character is c\n",
            "The index is 4 and the character is e\n",
            "The index is 5 and the character is a\n",
            "The index is 6 and the character is s\n",
            "The index is 7 and the character is e\n",
            "The index is 8 and the character is s\n",
            "The index is 9 and the character is  \n",
            "The index is 10 and the character is t\n",
            "The index is 11 and the character is o\n",
            "The index is 12 and the character is  \n",
            "The index is 13 and the character is e\n",
            "The index is 14 and the character is x\n",
            "The index is 15 and the character is i\n",
            "The index is 16 and the character is s\n",
            "The index is 17 and the character is t\n",
            "The index is 18 and the character is  \n",
            "The index is 19 and the character is w\n",
            "The index is 20 and the character is i\n",
            "The index is 21 and the character is t\n",
            "The index is 22 and the character is h\n",
            "The index is 23 and the character is o\n",
            "The index is 24 and the character is u\n",
            "The index is 25 and the character is t\n",
            "The index is 26 and the character is  \n",
            "The index is 27 and the character is m\n",
            "The index is 28 and the character is e\n",
            "The index is 29 and the character is .\n",
            "The index is 30 and the character is  \n",
            "The index is 31 and the character is N\n",
            "The index is 32 and the character is o\n",
            "The index is 33 and the character is ,\n",
            "The index is 34 and the character is  \n",
            "The index is 35 and the character is y\n",
            "The index is 36 and the character is o\n",
            "The index is 37 and the character is u\n",
            "The index is 38 and the character is  \n",
            "The index is 39 and the character is c\n",
            "The index is 40 and the character is l\n",
            "The index is 41 and the character is e\n",
            "The index is 42 and the character is a\n",
            "The index is 43 and the character is r\n",
            "The index is 44 and the character is l\n",
            "The index is 45 and the character is y\n",
            "The index is 46 and the character is  \n",
            "The index is 47 and the character is d\n",
            "The index is 48 and the character is o\n",
            "The index is 49 and the character is n\n",
            "The index is 50 and the character is '\n",
            "The index is 51 and the character is t\n",
            "The index is 52 and the character is  \n",
            "The index is 53 and the character is k\n",
            "The index is 54 and the character is n\n",
            "The index is 55 and the character is o\n",
            "The index is 56 and the character is w\n",
            "The index is 57 and the character is  \n",
            "The index is 58 and the character is w\n",
            "The index is 59 and the character is h\n",
            "The index is 60 and the character is o\n",
            "The index is 61 and the character is  \n",
            "The index is 62 and the character is y\n",
            "The index is 63 and the character is o\n",
            "The index is 64 and the character is u\n",
            "The index is 65 and the character is '\n",
            "The index is 66 and the character is r\n",
            "The index is 67 and the character is e\n",
            "The index is 68 and the character is  \n",
            "The index is 69 and the character is t\n",
            "The index is 70 and the character is a\n",
            "The index is 71 and the character is l\n",
            "The index is 72 and the character is k\n",
            "The index is 73 and the character is i\n",
            "The index is 74 and the character is n\n",
            "The index is 75 and the character is g\n",
            "The index is 76 and the character is  \n",
            "The index is 77 and the character is t\n",
            "The index is 78 and the character is o\n",
            "The index is 79 and the character is ,\n",
            "The index is 80 and the character is  \n",
            "The index is 81 and the character is s\n",
            "The index is 82 and the character is o\n",
            "The index is 83 and the character is  \n",
            "The index is 84 and the character is l\n",
            "The index is 85 and the character is e\n",
            "The index is 86 and the character is t\n",
            "The index is 87 and the character is  \n",
            "The index is 88 and the character is m\n",
            "The index is 89 and the character is e\n",
            "The index is 90 and the character is  \n",
            "The index is 91 and the character is c\n",
            "The index is 92 and the character is l\n",
            "The index is 93 and the character is u\n",
            "The index is 94 and the character is e\n",
            "The index is 95 and the character is  \n",
            "The index is 96 and the character is y\n",
            "The index is 97 and the character is o\n",
            "The index is 98 and the character is u\n",
            "The index is 99 and the character is  \n",
            "The index is 100 and the character is i\n",
            "The index is 101 and the character is n\n",
            "The index is 102 and the character is .\n",
            "The index is 103 and the character is  \n",
            "The index is 104 and the character is I\n",
            "The index is 105 and the character is  \n",
            "The index is 106 and the character is a\n",
            "The index is 107 and the character is m\n",
            "The index is 108 and the character is  \n",
            "The index is 109 and the character is n\n",
            "The index is 110 and the character is o\n",
            "The index is 111 and the character is t\n",
            "The index is 112 and the character is  \n",
            "The index is 113 and the character is i\n",
            "The index is 114 and the character is n\n",
            "The index is 115 and the character is  \n",
            "The index is 116 and the character is d\n",
            "The index is 117 and the character is a\n",
            "The index is 118 and the character is n\n",
            "The index is 119 and the character is g\n",
            "The index is 120 and the character is e\n",
            "The index is 121 and the character is r\n"
          ]
        }
      ]
    },
    {
      "cell_type": "code",
      "source": [
        "country_city_river_list = [('India','New Delhi','Ganga',),('Australia','Canberra','Rovers'),('United States','Wahington DC','Missouri'),('England','London','Thames')]\n",
        "for country,city,river in country_city_river_list:\n",
        "  print(f\"The capital of {country} is {city} and it also has the river {river}.\")\n",
        ""
      ],
      "metadata": {
        "colab": {
          "base_uri": "https://localhost:8080/"
        },
        "id": "5H6V2odvyCHC",
        "outputId": "89ce518c-f3bb-44a6-8a9b-2ae8473e8f3e"
      },
      "execution_count": 11,
      "outputs": [
        {
          "output_type": "stream",
          "name": "stdout",
          "text": [
            "The capital of India is New Delhi and it also has the river Ganga.\n",
            "The capital of Australia is Canberra and it also has the river Rovers.\n",
            "The capital of United States is Wahington DC and it also has the river Missouri.\n",
            "The capital of England is London and it also has the river Thames.\n"
          ]
        }
      ]
    },
    {
      "cell_type": "code",
      "source": [
        "for word in words_by_walter:\n",
        "    if word in ['I','me.']:\n",
        "         print(f\"The word is {word}\")\n",
        ""
      ],
      "metadata": {
        "colab": {
          "base_uri": "https://localhost:8080/"
        },
        "id": "2sSSKijtyCEY",
        "outputId": "3f46c510-c8a7-412a-df39-4c20fa36512c"
      },
      "execution_count": 12,
      "outputs": [
        {
          "output_type": "stream",
          "name": "stdout",
          "text": [
            "The word is me.\n",
            "The word is I\n"
          ]
        }
      ]
    },
    {
      "cell_type": "code",
      "source": [
        "days = ('Monday', 'Tuesday', 'Wednesday', 'Thursday', 'Friday', 'Saturday', 'Sunday')\n",
        "for day in days:\n",
        "  print(f\"Today is {day}\")"
      ],
      "metadata": {
        "colab": {
          "base_uri": "https://localhost:8080/"
        },
        "id": "eGXpfJ1SyCBh",
        "outputId": "5d60120d-c16a-4d01-cf2b-87b31ab7e7c7"
      },
      "execution_count": 13,
      "outputs": [
        {
          "output_type": "stream",
          "name": "stdout",
          "text": [
            "Today is Monday\n",
            "Today is Tuesday\n",
            "Today is Wednesday\n",
            "Today is Thursday\n",
            "Today is Friday\n",
            "Today is Saturday\n",
            "Today is Sunday\n"
          ]
        }
      ]
    },
    {
      "cell_type": "code",
      "source": [
        "for elem in {1,2,3}:\n",
        "    print(elem)"
      ],
      "metadata": {
        "colab": {
          "base_uri": "https://localhost:8080/"
        },
        "id": "LwZtsLbzyB_N",
        "outputId": "c9c6a4c2-2a31-4448-fae0-7e79449c5223"
      },
      "execution_count": 14,
      "outputs": [
        {
          "output_type": "stream",
          "name": "stdout",
          "text": [
            "1\n",
            "2\n",
            "3\n"
          ]
        }
      ]
    },
    {
      "cell_type": "code",
      "source": [
        "country_city_dict = {1:\"India\",2:\"USA\"}\n",
        "for item in country_city_dict:\n",
        "  print(item,country_city_dict[item])"
      ],
      "metadata": {
        "colab": {
          "base_uri": "https://localhost:8080/"
        },
        "id": "_BC_tZmUyB8W",
        "outputId": "c98bd810-5fc5-482d-b505-b87f506d0515"
      },
      "execution_count": 15,
      "outputs": [
        {
          "output_type": "stream",
          "name": "stdout",
          "text": [
            "1 India\n",
            "2 USA\n"
          ]
        }
      ]
    },
    {
      "cell_type": "code",
      "source": [
        "for country, city in country_city_dict.items():\n",
        "    print(f\"The capital of {country} is {city}\")\n"
      ],
      "metadata": {
        "colab": {
          "base_uri": "https://localhost:8080/"
        },
        "id": "HTutOMvKyB54",
        "outputId": "5e4c0d59-8a59-40aa-de41-798db37db025"
      },
      "execution_count": 16,
      "outputs": [
        {
          "output_type": "stream",
          "name": "stdout",
          "text": [
            "The capital of 1 is India\n",
            "The capital of 2 is USA\n"
          ]
        }
      ]
    }
  ]
}